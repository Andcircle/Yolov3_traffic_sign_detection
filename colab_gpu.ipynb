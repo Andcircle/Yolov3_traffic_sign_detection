{
  "nbformat": 4,
  "nbformat_minor": 0,
  "metadata": {
    "colab": {
      "name": "colab_gpu.ipynb",
      "provenance": [],
      "collapsed_sections": [],
      "toc_visible": true,
      "include_colab_link": true
    },
    "kernelspec": {
      "name": "python3",
      "display_name": "Python 3"
    },
    "accelerator": "GPU"
  },
  "cells": [
    {
      "cell_type": "markdown",
      "metadata": {
        "id": "view-in-github",
        "colab_type": "text"
      },
      "source": [
        "<a href=\"https://colab.research.google.com/github/Andcircle/Yolov3_traffic_sign_detection/blob/li_traffic_sign/colab_gpu.ipynb\" target=\"_parent\"><img src=\"https://colab.research.google.com/assets/colab-badge.svg\" alt=\"Open In Colab\"/></a>"
      ]
    },
    {
      "cell_type": "markdown",
      "metadata": {
        "id": "51bQlVgjmnWf"
      },
      "source": [
        "# YoloV3 TF2 GPU Colab Notebook\n",
        "\n",
        "##### 1.  Clone and install dependencies \n",
        "\n",
        "**IMPORTANT**: Restart following the instruction"
      ]
    },
    {
      "cell_type": "code",
      "metadata": {
        "id": "cpn-5i4VHbht",
        "colab": {
          "base_uri": "https://localhost:8080/"
        },
        "outputId": "d8fbab01-7a2a-4df4-b662-4722363105e2"
      },
      "source": [
        "!git clone https://github.com/Andcircle/Yolov3_traffic_sign_detection.git"
      ],
      "execution_count": 2,
      "outputs": [
        {
          "output_type": "stream",
          "text": [
            "Cloning into 'Yolov3_traffic_sign_detection'...\n",
            "remote: Enumerating objects: 424, done.\u001b[K\n",
            "remote: Counting objects: 100% (424/424), done.\u001b[K\n",
            "remote: Compressing objects: 100% (171/171), done.\u001b[K\n",
            "remote: Total 424 (delta 247), reused 407 (delta 238), pack-reused 0\u001b[K\n",
            "Receiving objects: 100% (424/424), 4.23 MiB | 8.37 MiB/s, done.\n",
            "Resolving deltas: 100% (247/247), done.\n"
          ],
          "name": "stdout"
        }
      ]
    },
    {
      "cell_type": "code",
      "metadata": {
        "colab": {
          "base_uri": "https://localhost:8080/",
          "height": 1000
        },
        "id": "Pco0i4Xo4OPP",
        "outputId": "baba0edf-a1bc-4cec-ea38-f4e9f459c4e2"
      },
      "source": [
        "%cd Yolov3_traffic_sign_detection/\n",
        "!pip install -r requirements-gpu-colab.txt dss"
      ],
      "execution_count": 3,
      "outputs": [
        {
          "output_type": "stream",
          "text": [
            "/content/Yolov3_traffic_sign_detection\n",
            "Obtaining file:///content/Yolov3_traffic_sign_detection (from -r requirements-gpu.txt (line 6))\n",
            "Collecting dss\n",
            "\u001b[?25l  Downloading https://files.pythonhosted.org/packages/82/6d/eedc6c344410a91eec1eee80ca53719d1b43c333d919c9fa1638938a6262/dss-0.8.tar.gz (233kB)\n",
            "\u001b[K     |████████████████████████████████| 235kB 8.9MB/s \n",
            "\u001b[?25hCollecting tensorflow-gpu==2.4.0\n",
            "\u001b[?25l  Downloading https://files.pythonhosted.org/packages/f1/aa/ae64be5acaac9055329289e6bfd54c1efa28bfe792f9021cea495fe2b89d/tensorflow_gpu-2.4.0-cp36-cp36m-manylinux2010_x86_64.whl (394.7MB)\n",
            "\u001b[K     |████████████████████████████████| 394.7MB 46kB/s \n",
            "\u001b[?25hCollecting opencv-python==4.1.1.26\n",
            "\u001b[?25l  Downloading https://files.pythonhosted.org/packages/5e/7e/bd5425f4dacb73367fddc71388a47c1ea570839197c2bcad86478e565186/opencv_python-4.1.1.26-cp36-cp36m-manylinux1_x86_64.whl (28.7MB)\n",
            "\u001b[K     |████████████████████████████████| 28.7MB 118kB/s \n",
            "\u001b[?25hRequirement already satisfied: lxml in /usr/local/lib/python3.6/dist-packages (from -r requirements-gpu.txt (line 3)) (4.2.6)\n",
            "Requirement already satisfied: tqdm in /usr/local/lib/python3.6/dist-packages (from -r requirements-gpu.txt (line 4)) (4.41.1)\n",
            "Collecting python-xlib\n",
            "\u001b[?25l  Downloading https://files.pythonhosted.org/packages/aa/b1/3d678b2426a3485ceb3ab1ec1e079da79ecb1b5e8845470ef089999cf688/python_xlib-0.29-py2.py3-none-any.whl (176kB)\n",
            "\u001b[K     |████████████████████████████████| 184kB 54.9MB/s \n",
            "\u001b[?25hCollecting dpkt\n",
            "\u001b[?25l  Downloading https://files.pythonhosted.org/packages/2a/85/e7b648df0f07f929ab8a9f3215057f62bcfb07542405f62018e484000d77/dpkt-1.9.5-py3-none-any.whl (177kB)\n",
            "\u001b[K     |████████████████████████████████| 184kB 61.1MB/s \n",
            "\u001b[?25hCollecting autopy\n",
            "\u001b[?25l  Downloading https://files.pythonhosted.org/packages/f4/6c/7baccf39d66514d2f5712858c9b736b471167e299cc5ea7f4c308d022766/autopy-4.0.0-cp36-cp36m-manylinux2010_x86_64.whl (8.3MB)\n",
            "\u001b[K     |████████████████████████████████| 8.3MB 29.1MB/s \n",
            "\u001b[?25hRequirement already satisfied: psutil in /usr/local/lib/python3.6/dist-packages (from dss) (5.4.8)\n",
            "Collecting schedule\n",
            "  Downloading https://files.pythonhosted.org/packages/43/8c/74529fcfbfaa93b8e88ba5d7f883805f87ee167ad878d0638cc012e5acc0/schedule-1.0.0-py2.py3-none-any.whl\n",
            "Collecting configobj\n",
            "  Downloading https://files.pythonhosted.org/packages/64/61/079eb60459c44929e684fa7d9e2fdca403f67d64dd9dbac27296be2e0fab/configobj-5.0.6.tar.gz\n",
            "Collecting netifaces\n",
            "  Downloading https://files.pythonhosted.org/packages/0c/9b/c4c7eb09189548d45939a3d3a6b3d53979c67d124459b27a094c365c347f/netifaces-0.10.9-cp36-cp36m-manylinux1_x86_64.whl\n",
            "Requirement already satisfied: wrapt~=1.12.1 in /usr/local/lib/python3.6/dist-packages (from tensorflow-gpu==2.4.0->-r requirements-gpu.txt (line 1)) (1.12.1)\n",
            "Requirement already satisfied: protobuf>=3.9.2 in /usr/local/lib/python3.6/dist-packages (from tensorflow-gpu==2.4.0->-r requirements-gpu.txt (line 1)) (3.12.4)\n",
            "Requirement already satisfied: typing-extensions~=3.7.4 in /usr/local/lib/python3.6/dist-packages (from tensorflow-gpu==2.4.0->-r requirements-gpu.txt (line 1)) (3.7.4.3)\n",
            "Requirement already satisfied: gast==0.3.3 in /usr/local/lib/python3.6/dist-packages (from tensorflow-gpu==2.4.0->-r requirements-gpu.txt (line 1)) (0.3.3)\n",
            "Requirement already satisfied: absl-py~=0.10 in /usr/local/lib/python3.6/dist-packages (from tensorflow-gpu==2.4.0->-r requirements-gpu.txt (line 1)) (0.10.0)\n",
            "Requirement already satisfied: opt-einsum~=3.3.0 in /usr/local/lib/python3.6/dist-packages (from tensorflow-gpu==2.4.0->-r requirements-gpu.txt (line 1)) (3.3.0)\n",
            "Requirement already satisfied: six~=1.15.0 in /usr/local/lib/python3.6/dist-packages (from tensorflow-gpu==2.4.0->-r requirements-gpu.txt (line 1)) (1.15.0)\n",
            "Requirement already satisfied: numpy~=1.19.2 in /usr/local/lib/python3.6/dist-packages (from tensorflow-gpu==2.4.0->-r requirements-gpu.txt (line 1)) (1.19.5)\n",
            "Requirement already satisfied: grpcio~=1.32.0 in /usr/local/lib/python3.6/dist-packages (from tensorflow-gpu==2.4.0->-r requirements-gpu.txt (line 1)) (1.32.0)\n",
            "Requirement already satisfied: flatbuffers~=1.12.0 in /usr/local/lib/python3.6/dist-packages (from tensorflow-gpu==2.4.0->-r requirements-gpu.txt (line 1)) (1.12)\n",
            "Requirement already satisfied: termcolor~=1.1.0 in /usr/local/lib/python3.6/dist-packages (from tensorflow-gpu==2.4.0->-r requirements-gpu.txt (line 1)) (1.1.0)\n",
            "Requirement already satisfied: tensorflow-estimator<2.5.0,>=2.4.0rc0 in /usr/local/lib/python3.6/dist-packages (from tensorflow-gpu==2.4.0->-r requirements-gpu.txt (line 1)) (2.4.0)\n",
            "Requirement already satisfied: h5py~=2.10.0 in /usr/local/lib/python3.6/dist-packages (from tensorflow-gpu==2.4.0->-r requirements-gpu.txt (line 1)) (2.10.0)\n",
            "Requirement already satisfied: astunparse~=1.6.3 in /usr/local/lib/python3.6/dist-packages (from tensorflow-gpu==2.4.0->-r requirements-gpu.txt (line 1)) (1.6.3)\n",
            "Requirement already satisfied: keras-preprocessing~=1.1.2 in /usr/local/lib/python3.6/dist-packages (from tensorflow-gpu==2.4.0->-r requirements-gpu.txt (line 1)) (1.1.2)\n",
            "Requirement already satisfied: google-pasta~=0.2 in /usr/local/lib/python3.6/dist-packages (from tensorflow-gpu==2.4.0->-r requirements-gpu.txt (line 1)) (0.2.0)\n",
            "Requirement already satisfied: tensorboard~=2.4 in /usr/local/lib/python3.6/dist-packages (from tensorflow-gpu==2.4.0->-r requirements-gpu.txt (line 1)) (2.4.1)\n",
            "Requirement already satisfied: wheel~=0.35 in /usr/local/lib/python3.6/dist-packages (from tensorflow-gpu==2.4.0->-r requirements-gpu.txt (line 1)) (0.36.2)\n",
            "Requirement already satisfied: setuptools in /usr/local/lib/python3.6/dist-packages (from protobuf>=3.9.2->tensorflow-gpu==2.4.0->-r requirements-gpu.txt (line 1)) (53.0.0)\n",
            "Requirement already satisfied: tensorboard-plugin-wit>=1.6.0 in /usr/local/lib/python3.6/dist-packages (from tensorboard~=2.4->tensorflow-gpu==2.4.0->-r requirements-gpu.txt (line 1)) (1.8.0)\n",
            "Requirement already satisfied: markdown>=2.6.8 in /usr/local/lib/python3.6/dist-packages (from tensorboard~=2.4->tensorflow-gpu==2.4.0->-r requirements-gpu.txt (line 1)) (3.3.3)\n",
            "Requirement already satisfied: google-auth<2,>=1.6.3 in /usr/local/lib/python3.6/dist-packages (from tensorboard~=2.4->tensorflow-gpu==2.4.0->-r requirements-gpu.txt (line 1)) (1.25.0)\n",
            "Requirement already satisfied: google-auth-oauthlib<0.5,>=0.4.1 in /usr/local/lib/python3.6/dist-packages (from tensorboard~=2.4->tensorflow-gpu==2.4.0->-r requirements-gpu.txt (line 1)) (0.4.2)\n",
            "Requirement already satisfied: werkzeug>=0.11.15 in /usr/local/lib/python3.6/dist-packages (from tensorboard~=2.4->tensorflow-gpu==2.4.0->-r requirements-gpu.txt (line 1)) (1.0.1)\n",
            "Requirement already satisfied: requests<3,>=2.21.0 in /usr/local/lib/python3.6/dist-packages (from tensorboard~=2.4->tensorflow-gpu==2.4.0->-r requirements-gpu.txt (line 1)) (2.23.0)\n",
            "Requirement already satisfied: importlib-metadata; python_version < \"3.8\" in /usr/local/lib/python3.6/dist-packages (from markdown>=2.6.8->tensorboard~=2.4->tensorflow-gpu==2.4.0->-r requirements-gpu.txt (line 1)) (3.4.0)\n",
            "Requirement already satisfied: cachetools<5.0,>=2.0.0 in /usr/local/lib/python3.6/dist-packages (from google-auth<2,>=1.6.3->tensorboard~=2.4->tensorflow-gpu==2.4.0->-r requirements-gpu.txt (line 1)) (4.2.1)\n",
            "Requirement already satisfied: pyasn1-modules>=0.2.1 in /usr/local/lib/python3.6/dist-packages (from google-auth<2,>=1.6.3->tensorboard~=2.4->tensorflow-gpu==2.4.0->-r requirements-gpu.txt (line 1)) (0.2.8)\n",
            "Requirement already satisfied: rsa<5,>=3.1.4; python_version >= \"3.6\" in /usr/local/lib/python3.6/dist-packages (from google-auth<2,>=1.6.3->tensorboard~=2.4->tensorflow-gpu==2.4.0->-r requirements-gpu.txt (line 1)) (4.7)\n",
            "Requirement already satisfied: requests-oauthlib>=0.7.0 in /usr/local/lib/python3.6/dist-packages (from google-auth-oauthlib<0.5,>=0.4.1->tensorboard~=2.4->tensorflow-gpu==2.4.0->-r requirements-gpu.txt (line 1)) (1.3.0)\n",
            "Requirement already satisfied: idna<3,>=2.5 in /usr/local/lib/python3.6/dist-packages (from requests<3,>=2.21.0->tensorboard~=2.4->tensorflow-gpu==2.4.0->-r requirements-gpu.txt (line 1)) (2.10)\n",
            "Requirement already satisfied: certifi>=2017.4.17 in /usr/local/lib/python3.6/dist-packages (from requests<3,>=2.21.0->tensorboard~=2.4->tensorflow-gpu==2.4.0->-r requirements-gpu.txt (line 1)) (2020.12.5)\n",
            "Requirement already satisfied: urllib3!=1.25.0,!=1.25.1,<1.26,>=1.21.1 in /usr/local/lib/python3.6/dist-packages (from requests<3,>=2.21.0->tensorboard~=2.4->tensorflow-gpu==2.4.0->-r requirements-gpu.txt (line 1)) (1.24.3)\n",
            "Requirement already satisfied: chardet<4,>=3.0.2 in /usr/local/lib/python3.6/dist-packages (from requests<3,>=2.21.0->tensorboard~=2.4->tensorflow-gpu==2.4.0->-r requirements-gpu.txt (line 1)) (3.0.4)\n",
            "Requirement already satisfied: zipp>=0.5 in /usr/local/lib/python3.6/dist-packages (from importlib-metadata; python_version < \"3.8\"->markdown>=2.6.8->tensorboard~=2.4->tensorflow-gpu==2.4.0->-r requirements-gpu.txt (line 1)) (3.4.0)\n",
            "Requirement already satisfied: pyasn1<0.5.0,>=0.4.6 in /usr/local/lib/python3.6/dist-packages (from pyasn1-modules>=0.2.1->google-auth<2,>=1.6.3->tensorboard~=2.4->tensorflow-gpu==2.4.0->-r requirements-gpu.txt (line 1)) (0.4.8)\n",
            "Requirement already satisfied: oauthlib>=3.0.0 in /usr/local/lib/python3.6/dist-packages (from requests-oauthlib>=0.7.0->google-auth-oauthlib<0.5,>=0.4.1->tensorboard~=2.4->tensorflow-gpu==2.4.0->-r requirements-gpu.txt (line 1)) (3.1.0)\n",
            "Building wheels for collected packages: dss, configobj\n",
            "  Building wheel for dss (setup.py) ... \u001b[?25l\u001b[?25hdone\n",
            "  Created wheel for dss: filename=dss-0.8-cp36-none-any.whl size=299164 sha256=dbb7fc35518752d3fe08b9db428a5d6fab5149fe6be3be44b3d8a123ae378da8\n",
            "  Stored in directory: /root/.cache/pip/wheels/17/f0/3e/73591ebfaef607d339cf88f0aabd1595e072af1a6028e51822\n",
            "  Building wheel for configobj (setup.py) ... \u001b[?25l\u001b[?25hdone\n",
            "  Created wheel for configobj: filename=configobj-5.0.6-cp36-none-any.whl size=34545 sha256=cef5f880aa71ffb71d5fc0d141b53fb2439a9a688139f46011e9f1db82640593\n",
            "  Stored in directory: /root/.cache/pip/wheels/f1/e4/16/4981ca97c2d65106b49861e0b35e2660695be7219a2d351ee0\n",
            "Successfully built dss configobj\n",
            "\u001b[31mERROR: albumentations 0.1.12 has requirement imgaug<0.2.7,>=0.2.5, but you'll have imgaug 0.2.9 which is incompatible.\u001b[0m\n",
            "Installing collected packages: python-xlib, dpkt, autopy, schedule, configobj, netifaces, dss, tensorflow-gpu, opencv-python, yolov3-tf2\n",
            "  Found existing installation: opencv-python 4.1.2.30\n",
            "    Uninstalling opencv-python-4.1.2.30:\n",
            "      Successfully uninstalled opencv-python-4.1.2.30\n",
            "  Running setup.py develop for yolov3-tf2\n",
            "Successfully installed autopy-4.0.0 configobj-5.0.6 dpkt-1.9.5 dss-0.8 netifaces-0.10.9 opencv-python-4.1.1.26 python-xlib-0.29 schedule-1.0.0 tensorflow-gpu-2.4.0 yolov3-tf2\n"
          ],
          "name": "stdout"
        },
        {
          "output_type": "display_data",
          "data": {
            "application/vnd.colab-display-data+json": {
              "pip_warning": {
                "packages": [
                  "cv2",
                  "tensorflow"
                ]
              }
            }
          },
          "metadata": {
            "tags": []
          }
        }
      ]
    },
    {
      "cell_type": "code",
      "metadata": {
        "colab": {
          "base_uri": "https://localhost:8080/"
        },
        "id": "qNxzP7ut8M5u",
        "outputId": "4aca0055-1d42-46aa-8074-633e3e38fe80"
      },
      "source": [
        "from google.colab import drive\n",
        "drive.mount('/content/drive')"
      ],
      "execution_count": 1,
      "outputs": [
        {
          "output_type": "stream",
          "text": [
            "Mounted at /content/drive\n"
          ],
          "name": "stdout"
        }
      ]
    },
    {
      "cell_type": "markdown",
      "metadata": {
        "id": "EIUMAdGXm46J"
      },
      "source": [
        "##### 2.  Check Tensorflow2 version"
      ]
    },
    {
      "cell_type": "code",
      "metadata": {
        "id": "oyrsdB9THu-8",
        "colab": {
          "base_uri": "https://localhost:8080/",
          "height": 137
        },
        "outputId": "e52d0af6-86a1-4958-8a4b-24191bf22388"
      },
      "source": [
        "%cd Yolov3_traffic_sign_detection/\n",
        "!ls\n",
        "\n",
        "import tensorflow as tf\n",
        "tf.__version__"
      ],
      "execution_count": 2,
      "outputs": [
        {
          "output_type": "stream",
          "text": [
            "/content/Yolov3_traffic_sign_detection\n",
            "checkpoints\t data\t\t  README.md\t\ttrain.py\n",
            "colab_gpu.ipynb  detect.py\t  requirements-gpu.txt\tyolov3_tf2\n",
            "conda-cpu.yml\t detect_video.py  requirements.txt\tyolov3_tf2.egg-info\n",
            "conda-gpu.yml\t docs\t\t  setup.py\n",
            "convert.py\t LICENSE\t  tools\n"
          ],
          "name": "stdout"
        },
        {
          "output_type": "execute_result",
          "data": {
            "application/vnd.google.colaboratory.intrinsic+json": {
              "type": "string"
            },
            "text/plain": [
              "'2.4.0'"
            ]
          },
          "metadata": {
            "tags": []
          },
          "execution_count": 2
        }
      ]
    },
    {
      "cell_type": "markdown",
      "metadata": {
        "id": "wxD-M-g4nZf_"
      },
      "source": [
        "##### 3.  Convert Pretrained Darknet Weight"
      ]
    },
    {
      "cell_type": "code",
      "metadata": {
        "id": "xymK200gmV25"
      },
      "source": [
        "!wget https://pjreddie.com/media/files/yolov3.weights -O data/yolov3.weights\n",
        "!python convert.py"
      ],
      "execution_count": null,
      "outputs": []
    },
    {
      "cell_type": "markdown",
      "metadata": {
        "id": "ySGg4Ols02rX"
      },
      "source": [
        "##### 4. Initialize Detector"
      ]
    },
    {
      "cell_type": "code",
      "metadata": {
        "id": "tlgBiU4ZsZY5"
      },
      "source": [
        "import sys\n",
        "from absl import app, logging, flags\n",
        "from absl.flags import FLAGS\n",
        "import time\n",
        "import cv2\n",
        "import numpy as np\n",
        "import tensorflow as tf\n",
        "from yolov3_tf2.models import (\n",
        "    YoloV3, YoloV3Tiny\n",
        ")\n",
        "from yolov3_tf2.dataset import transform_images, load_tfrecord_dataset\n",
        "from yolov3_tf2.utils import draw_outputs\n",
        "\n",
        "flags.DEFINE_string('classes', './data/coco.names', 'path to classes file')\n",
        "flags.DEFINE_string('weights', './checkpoints/yolov3.tf',\n",
        "                    'path to weights file')\n",
        "flags.DEFINE_boolean('tiny', False, 'yolov3 or yolov3-tiny')\n",
        "flags.DEFINE_integer('size', 416, 'resize images to')\n",
        "flags.DEFINE_string('image', './data/girl.png', 'path to input image')\n",
        "flags.DEFINE_string('tfrecord', None, 'tfrecord instead of image')\n",
        "flags.DEFINE_string('output', './output.jpg', 'path to output image')\n",
        "flags.DEFINE_integer('num_classes', 80, 'number of classes in the model')\n",
        "\n",
        "app._run_init(['yolov3'], app.parse_flags_with_usage)\n",
        "\n",
        "physical_devices = tf.config.experimental.list_physical_devices('GPU')\n",
        "tf.config.experimental.set_memory_growth(physical_devices[0], True)"
      ],
      "execution_count": null,
      "outputs": []
    },
    {
      "cell_type": "markdown",
      "metadata": {
        "id": "laxApAGV07kw"
      },
      "source": [
        "##### 4. Detect Image"
      ]
    },
    {
      "cell_type": "code",
      "metadata": {
        "id": "2iKC1pvBnkDk"
      },
      "source": [
        "FLAGS.image = 'data/meme.jpg'\n",
        "\n",
        "if FLAGS.tiny:\n",
        "    yolo = YoloV3Tiny(classes=FLAGS.num_classes)\n",
        "else:\n",
        "    yolo = YoloV3(classes=FLAGS.num_classes)\n",
        "      \n",
        "yolo.load_weights(FLAGS.weights).expect_partial()\n",
        "logging.info('weights loaded')\n",
        "\n",
        "class_names = [c.strip() for c in open(FLAGS.classes).readlines()]\n",
        "logging.info('classes loaded')\n",
        "\n",
        "img_raw = tf.image.decode_image(\n",
        "    open(FLAGS.image, 'rb').read(), channels=3)\n",
        "\n",
        "img = tf.expand_dims(img_raw, 0)\n",
        "img = transform_images(img, FLAGS.size)\n",
        "\n",
        "t1 = time.time()\n",
        "boxes, scores, classes, nums = yolo(img)\n",
        "t2 = time.time()\n",
        "logging.info('time: {}'.format(t2 - t1))\n",
        "\n",
        "logging.info('detections:')\n",
        "for i in range(nums[0]):\n",
        "    logging.info('\\t{}, {}, {}'.format(class_names[int(classes[0][i])],\n",
        "                                        np.array(scores[0][i]),\n",
        "                                        np.array(boxes[0][i])))\n",
        "\n",
        "img = cv2.cvtColor(img_raw.numpy(), cv2.COLOR_RGB2BGR)\n",
        "img = draw_outputs(img, (boxes, scores, classes, nums), class_names)\n",
        "\n",
        "from IPython.display import Image, display\n",
        "display(Image(data=bytes(cv2.imencode('.jpg', img)[1]), width=800))"
      ],
      "execution_count": null,
      "outputs": []
    },
    {
      "cell_type": "markdown",
      "metadata": {
        "id": "Up4Xcad81FSa"
      },
      "source": [
        "##### 5. Training New Dataset"
      ]
    },
    {
      "cell_type": "code",
      "metadata": {
        "id": "-I8Ml-j4Iyuv"
      },
      "source": [
        "!wget http://host.robots.ox.ac.uk/pascal/VOC/voc2009/VOCtrainval_11-May-2009.tar -O ./data/voc2009_raw.tar\n",
        "!mkdir -p ./data/voc2009_raw\n",
        "!tar -xf ./data/voc2009_raw.tar -C ./data/voc2009_raw"
      ],
      "execution_count": null,
      "outputs": []
    },
    {
      "cell_type": "code",
      "metadata": {
        "id": "9lvttM39I5Na"
      },
      "source": [
        "!python tools/voc2012.py \\\n",
        "  --data_dir './data/voc2009_raw/VOCdevkit/VOC2009' \\\n",
        "  --split train \\\n",
        "  --output_file ./data/voc_train.tfrecord\n",
        "\n",
        "!python tools/voc2012.py \\\n",
        "  --data_dir './data/voc2009_raw/VOCdevkit/VOC2009' \\\n",
        "  --split val \\\n",
        "  --output_file ./data/voc_val.tfrecord"
      ],
      "execution_count": null,
      "outputs": []
    },
    {
      "cell_type": "code",
      "metadata": {
        "id": "GwjLHBgPKblm"
      },
      "source": [
        "!python tools/visualize_dataset.py --dataset ./data/voc_train.tfrecord --classes=./data/voc2012.names"
      ],
      "execution_count": null,
      "outputs": []
    },
    {
      "cell_type": "code",
      "metadata": {
        "id": "S03LDL19KfBP",
        "outputId": "f5b98dd8-d1a4-4354-b668-f9ae8d3dd095",
        "colab": {
          "base_uri": "https://localhost:8080/"
        }
      },
      "source": [
        "!nvidia-smi"
      ],
      "execution_count": 10,
      "outputs": [
        {
          "output_type": "stream",
          "text": [
            "Mon Feb 22 00:38:25 2021       \n",
            "+-----------------------------------------------------------------------------+\n",
            "| NVIDIA-SMI 460.39       Driver Version: 460.32.03    CUDA Version: 11.2     |\n",
            "|-------------------------------+----------------------+----------------------+\n",
            "| GPU  Name        Persistence-M| Bus-Id        Disp.A | Volatile Uncorr. ECC |\n",
            "| Fan  Temp  Perf  Pwr:Usage/Cap|         Memory-Usage | GPU-Util  Compute M. |\n",
            "|                               |                      |               MIG M. |\n",
            "|===============================+======================+======================|\n",
            "|   0  Tesla T4            Off  | 00000000:00:04.0 Off |                    0 |\n",
            "| N/A   36C    P8     9W /  70W |      0MiB / 15109MiB |      0%      Default |\n",
            "|                               |                      |                  N/A |\n",
            "+-------------------------------+----------------------+----------------------+\n",
            "                                                                               \n",
            "+-----------------------------------------------------------------------------+\n",
            "| Processes:                                                                  |\n",
            "|  GPU   GI   CI        PID   Type   Process name                  GPU Memory |\n",
            "|        ID   ID                                                   Usage      |\n",
            "|=============================================================================|\n",
            "|  No running processes found                                                 |\n",
            "+-----------------------------------------------------------------------------+\n"
          ],
          "name": "stdout"
        }
      ]
    },
    {
      "cell_type": "code",
      "metadata": {
        "id": "8OVCJuxQKuMM"
      },
      "source": [
        "from IPython.display import Image\n",
        "Image(filename='./output.jpg')"
      ],
      "execution_count": null,
      "outputs": []
    },
    {
      "cell_type": "code",
      "metadata": {
        "id": "ZBhryo1I2dwG",
        "colab": {
          "base_uri": "https://localhost:8080/"
        },
        "outputId": "dafa971e-e72e-4c23-d374-6d4c1abed6b2"
      },
      "source": [
        "!python train.py \\\n",
        "\t--dataset /content/drive/MyDrive/workspace/traffic_sign_data/tfrecord_train.tfrecord \\\n",
        "\t--val_dataset /content/drive/MyDrive/workspace/traffic_sign_data/tfrecord_val.tfrecord \\\n",
        "\t--classes /content/drive/MyDrive/workspace/traffic_sign_data/traffic_sign.names \\\n",
        "\t--num_classes 83 \\\n",
        "\t--mode eager_tf --transfer none \\\n",
        "\t--batch_size 16 \\\n",
        "\t--epochs 100 \\\n",
        "\t--weights ./checkpoints/yolov3_tiny.tf"
      ],
      "execution_count": 11,
      "outputs": [
        {
          "output_type": "stream",
          "text": [
            "2021-02-22 00:38:48.722238: W tensorflow/stream_executor/platform/default/dso_loader.cc:60] Could not load dynamic library 'libcudart.so.11.0'; dlerror: libcudart.so.11.0: cannot open shared object file: No such file or directory; LD_LIBRARY_PATH: /usr/lib64-nvidia\n",
            "2021-02-22 00:38:48.722284: I tensorflow/stream_executor/cuda/cudart_stub.cc:29] Ignore above cudart dlerror if you do not have a GPU set up on your machine.\n",
            "2021-02-22 00:38:54.434939: I tensorflow/compiler/jit/xla_cpu_device.cc:41] Not creating XLA devices, tf_xla_enable_xla_devices not set\n",
            "2021-02-22 00:38:54.435997: I tensorflow/stream_executor/platform/default/dso_loader.cc:49] Successfully opened dynamic library libcuda.so.1\n",
            "2021-02-22 00:38:54.496518: I tensorflow/stream_executor/cuda/cuda_gpu_executor.cc:941] successful NUMA node read from SysFS had negative value (-1), but there must be at least one NUMA node, so returning NUMA node zero\n",
            "2021-02-22 00:38:54.497127: I tensorflow/core/common_runtime/gpu/gpu_device.cc:1720] Found device 0 with properties: \n",
            "pciBusID: 0000:00:04.0 name: Tesla T4 computeCapability: 7.5\n",
            "coreClock: 1.59GHz coreCount: 40 deviceMemorySize: 14.75GiB deviceMemoryBandwidth: 298.08GiB/s\n",
            "2021-02-22 00:38:54.497269: W tensorflow/stream_executor/platform/default/dso_loader.cc:60] Could not load dynamic library 'libcudart.so.11.0'; dlerror: libcudart.so.11.0: cannot open shared object file: No such file or directory; LD_LIBRARY_PATH: /usr/lib64-nvidia\n",
            "2021-02-22 00:38:54.497506: W tensorflow/stream_executor/platform/default/dso_loader.cc:60] Could not load dynamic library 'libcublas.so.11'; dlerror: libcublas.so.11: cannot open shared object file: No such file or directory; LD_LIBRARY_PATH: /usr/lib64-nvidia\n",
            "2021-02-22 00:38:54.497666: W tensorflow/stream_executor/platform/default/dso_loader.cc:60] Could not load dynamic library 'libcublasLt.so.11'; dlerror: libcublasLt.so.11: cannot open shared object file: No such file or directory; LD_LIBRARY_PATH: /usr/lib64-nvidia\n",
            "2021-02-22 00:38:54.619315: I tensorflow/stream_executor/platform/default/dso_loader.cc:49] Successfully opened dynamic library libcufft.so.10\n",
            "2021-02-22 00:38:54.620794: I tensorflow/stream_executor/platform/default/dso_loader.cc:49] Successfully opened dynamic library libcurand.so.10\n",
            "2021-02-22 00:38:54.915673: I tensorflow/stream_executor/platform/default/dso_loader.cc:49] Successfully opened dynamic library libcusolver.so.10\n",
            "2021-02-22 00:38:54.915974: W tensorflow/stream_executor/platform/default/dso_loader.cc:60] Could not load dynamic library 'libcusparse.so.11'; dlerror: libcusparse.so.11: cannot open shared object file: No such file or directory; LD_LIBRARY_PATH: /usr/lib64-nvidia\n",
            "2021-02-22 00:38:54.916210: W tensorflow/stream_executor/platform/default/dso_loader.cc:60] Could not load dynamic library 'libcudnn.so.8'; dlerror: libcudnn.so.8: cannot open shared object file: No such file or directory; LD_LIBRARY_PATH: /usr/lib64-nvidia\n",
            "2021-02-22 00:38:54.916248: W tensorflow/core/common_runtime/gpu/gpu_device.cc:1757] Cannot dlopen some GPU libraries. Please make sure the missing libraries mentioned above are installed properly if you would like to use GPU. Follow the guide at https://www.tensorflow.org/install/gpu for how to download and setup the required libraries for your platform.\n",
            "Skipping registering GPU devices...\n",
            "2021-02-22 00:38:54.944168: I tensorflow/compiler/jit/xla_gpu_device.cc:99] Not creating XLA devices, tf_xla_enable_xla_devices not set\n",
            "2021-02-22 00:38:54.944235: I tensorflow/core/common_runtime/gpu/gpu_device.cc:1261] Device interconnect StreamExecutor with strength 1 edge matrix:\n",
            "2021-02-22 00:38:54.944260: I tensorflow/core/common_runtime/gpu/gpu_device.cc:1267]      \n",
            "2021-02-22 00:38:58.700521: I tensorflow/compiler/mlir/mlir_graph_optimization_pass.cc:116] None of the MLIR optimization passes are enabled (registered 2)\n",
            "2021-02-22 00:38:58.703708: I tensorflow/core/platform/profile_utils/cpu_utils.cc:112] CPU Frequency: 2199995000 Hz\n",
            "I0222 00:40:04.390479 139750430259072 train.py:150] 1_train_0, 119412.84375, [5634.3447, 26349.86, 87416.55]\n",
            "^C\n"
          ],
          "name": "stdout"
        }
      ]
    },
    {
      "cell_type": "markdown",
      "metadata": {
        "id": "4x64oIL5MB3N"
      },
      "source": [
        ""
      ]
    },
    {
      "cell_type": "markdown",
      "metadata": {
        "id": "2t1TfUug-AUE"
      },
      "source": [
        "flags.DEFINE_string('dataset', './traffic_sign_data/tfrecord_train.tfrecord', 'path to dataset')\n",
        "flags.DEFINE_string('val_dataset', './traffic_sign_data/tfrecord_val.tfrecord', 'path to validation dataset')\n",
        "flags.DEFINE_boolean('tiny', True, 'yolov3 or yolov3-tiny')\n",
        "flags.DEFINE_string('weights', './checkpoints/yolov3-tiny.tf',\n",
        "                    'path to weights file')\n",
        "flags.DEFINE_string('classes', './traffic_sign_data/traffic_sign.names', 'path to classes file')\n",
        "flags.DEFINE_enum('mode', 'eager_tf', ['fit', 'eager_fit', 'eager_tf'],\n",
        "                  'fit: model.fit, '\n",
        "                  'eager_fit: model.fit(run_eagerly=True), '\n",
        "                  'eager_tf: custom GradientTape')\n",
        "flags.DEFINE_enum('transfer', 'none',\n",
        "                  ['none', 'darknet', 'no_output', 'frozen', 'fine_tune'],\n",
        "                  'none: Training from scratch, '\n",
        "                  'darknet: Transfer darknet, '\n",
        "                  'no_output: Transfer all but output, '\n",
        "                  'frozen: Transfer and freeze all, '\n",
        "                  'fine_tune: Transfer all and freeze darknet only')\n",
        "flags.DEFINE_integer('size', 416, 'image size')\n",
        "flags.DEFINE_integer('epochs', 20, 'number of epochs')\n",
        "flags.DEFINE_integer('batch_size', 8, 'batch size')\n",
        "flags.DEFINE_float('learning_rate', 1e-3, 'learning rate')\n",
        "flags.DEFINE_integer('num_classes', 83, 'number of classes in the model')\n",
        "flags.DEFINE_integer('weights_num_classes', None, 'specify num class for `weights` file if different, '\n",
        "                     'useful in transfer learning with different number of classes')"
      ]
    },
    {
      "cell_type": "markdown",
      "metadata": {
        "id": "zgtlCN1m1TKG"
      },
      "source": [
        "##### 6. Detect using new weights"
      ]
    },
    {
      "cell_type": "code",
      "metadata": {
        "id": "wok7x44vNYuP"
      },
      "source": [
        "FLAGS.num_classes = 20\n",
        "FLAGS.classes = 'data/voc2012.names'\n",
        "FLAGS.weights = 'checkpoints/yolov3_train_3.tf'\n",
        "FLAGS.image = 'data/meme.jpg'\n",
        "\n",
        "# Lower threshold due to insufficient training\n",
        "FLAGS.yolo_iou_threshold = 0.2\n",
        "FLAGS.yolo_score_threshold = 0.2\n",
        "\n",
        "if FLAGS.tiny:\n",
        "    yolo = YoloV3Tiny(classes=FLAGS.num_classes)\n",
        "else:\n",
        "    yolo = YoloV3(classes=FLAGS.num_classes)\n",
        "\n",
        "yolo.load_weights(FLAGS.weights).expect_partial()\n",
        "logging.info('weights loaded')\n",
        "\n",
        "class_names = [c.strip() for c in open(FLAGS.classes).readlines()]\n",
        "logging.info('classes loaded')\n",
        "\n",
        "img_raw = tf.image.decode_image(\n",
        "    open(FLAGS.image, 'rb').read(), channels=3)\n",
        "\n",
        "img = tf.expand_dims(img_raw, 0)\n",
        "img = transform_images(img, FLAGS.size)\n",
        "\n",
        "t1 = time.time()\n",
        "boxes, scores, classes, nums = yolo(img)\n",
        "t2 = time.time()\n",
        "logging.info('time: {}'.format(t2 - t1))\n",
        "\n",
        "logging.info('detections:')\n",
        "for i in range(nums[0]):\n",
        "    logging.info('\\t{}, {}, {}'.format(class_names[int(classes[0][i])],\n",
        "                                        np.array(scores[0][i]),\n",
        "                                        np.array(boxes[0][i])))\n",
        "\n",
        "img = cv2.cvtColor(img_raw.numpy(), cv2.COLOR_RGB2BGR)\n",
        "img = draw_outputs(img, (boxes, scores, classes, nums), class_names)\n",
        "\n",
        "from IPython.display import Image, display\n",
        "display(Image(data=bytes(cv2.imencode('.jpg', img)[1]), width=800))"
      ],
      "execution_count": null,
      "outputs": []
    },
    {
      "cell_type": "code",
      "metadata": {
        "id": "esTFKZzX7jYj"
      },
      "source": [
        ""
      ],
      "execution_count": null,
      "outputs": []
    }
  ]
}